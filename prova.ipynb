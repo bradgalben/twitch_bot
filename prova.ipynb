{
 "cells": [
  {
   "cell_type": "markdown",
   "id": "9bcbc006",
   "metadata": {},
   "source": [
    "--------------------------\n",
    "# [**HW 3**](https://github.com/lucamaiano/ADM/tree/master/2022/Homework_3) - Places of the World\n",
    "------------------------------------"
   ]
  },
  {
   "cell_type": "code",
   "execution_count": 1,
   "id": "63bd3ee4",
   "metadata": {
    "scrolled": false
   },
   "outputs": [],
   "source": [
    "import time\n",
    "import datetime\n",
    "import numpy as np\n",
    "import pandas as pd\n",
    "from tqdm import tqdm\n",
    "from tabulate import tabulate"
   ]
  },
  {
   "cell_type": "markdown",
   "id": "7d5d5409",
   "metadata": {},
   "source": [
    "### Data collection:\n",
    "**Collectings URLs** of the places listed in **the first 400 pages** of [**Atlas Obscura**](https://www.atlasobscura.com/)"
   ]
  },
  {
   "cell_type": "code",
   "execution_count": 2,
   "id": "bbca5d5b",
   "metadata": {
    "scrolled": false
   },
   "outputs": [],
   "source": [
    "import requests\n",
    "from bs4 import BeautifulSoup as bs"
   ]
  },
  {
   "cell_type": "code",
   "execution_count": 3,
   "id": "38cb38aa",
   "metadata": {
    "scrolled": false
   },
   "outputs": [
    {
     "name": "stderr",
     "output_type": "stream",
     "text": [
      "100%|████████████████████████████████████████████████████████████████████████████████| 400/400 [06:40<00:00,  1.00s/it]"
     ]
    },
    {
     "name": "stdout",
     "output_type": "stream",
     "text": [
      " URLs found : 7200\t unique URLs : 7200\n"
     ]
    },
    {
     "name": "stderr",
     "output_type": "stream",
     "text": [
      "\n"
     ]
    }
   ],
   "source": [
    "tot_pages = 400     # number of pages requested\n",
    "page = 1            # set counter\n",
    "urls = []           # empty list to store URLs\n",
    "\n",
    "with tqdm( total = tot_pages, position=0, leave=True) as pbar:\n",
    "    \n",
    "    while page < (tot_pages + 1):\n",
    "        \n",
    "        url = f\"https://www.atlasobscura.com/places?page={page}&sort=likes_count\"\n",
    "        \n",
    "        # make a request to web page and retrive HTML code\n",
    "        \n",
    "        result = requests.get(url, headers = {'User-agent': 'your bot 1.1'}) \n",
    "        soup = bs(result.text, 'html.parser')        # parsing HTML with BeautifulSoup\n",
    "        \n",
    "        if result.status_code == requests.codes.ok:  # check the response status code\n",
    "        \n",
    "            for a in soup.find_all('a',{\"class\":\"content-card content-card-place\"}, href=True):\n",
    "            \n",
    "                urls.append(a['href'])    # store URLs in list\n",
    "                \n",
    "            pbar.update()\n",
    "            page = page+1\n",
    "                       \n",
    "print(\" URLs found : {}\\t unique URLs : {}\".format(len(urls),len(set(urls))))"
   ]
  },
  {
   "cell_type": "markdown",
   "id": "0db0b5a9",
   "metadata": {},
   "source": [
    "Parsing html code of each place's page (7200) to retrieve:\n",
    "\n",
    "1. Place Name (to save as `placeName`): string.\n",
    "2. place Location (to save as `placeLocation`): string\n",
    "3. Short Description (to save as `placeShortDesc`): string.\n",
    "4. Number of people who have been there (to save as `numPeopleVisited`): integer.\n",
    "5. Nuber of people who want to visit the place (to save as `numPeopleWant`): integer.\n",
    "6. Description (to save as `placeDesc`): string.\n",
    "7. Address (to save as `placeAddress`): string.\n",
    "8. Latitud and Longitude of the place's location (to save as `placeAlt` and `placeLong`): floats.\n",
    "9. Post publishing date (to save as `placePubDate`): datetime.\n",
    "10. The names of the related places (to save as `placeRelatedPlaces`): list of strings.\n",
    "11. The names of the nearby places (to save as `placeNearby`): list of strings.\n",
    "12. Place Tags (to save as `placeTags`): list of strings.\n",
    "13. The username of the post editors (to save as `placeEditors`): list of strings.\n",
    "14. The URL of the page of the place (to save as `placeURL`): string\n"
   ]
  },
  {
   "cell_type": "code",
   "execution_count": 4,
   "id": "297b65ff",
   "metadata": {
    "scrolled": false
   },
   "outputs": [],
   "source": [
    "def extract_single_place(zuppa : bs):\n",
    "    \n",
    "    placeName = zuppa.find_all(\"h1\", {\"class\": \"DDPage__header-title\"})[0].contents[0].text\n",
    "    placeLocation = zuppa.find_all(\"div\", {\"class\": \"DDPage__header-place-location\"})[0].text\n",
    "    placeShortDesc = zuppa.find_all(\"h3\", {\"class\": \"DDPage__header-dek\"})[0].contents[0].text\n",
    "    numPeopleVisited = int(zuppa.find_all(\"div\", {\"class\": \"title-md item-action-count\"})[0].contents[0].text)                  \n",
    "    numPeopleWant = int(zuppa.find_all(\"div\", {\"class\": \"title-md item-action-count\"})[1].contents[0].text)\n",
    "    placeDesc = zuppa.find_all(\"div\", {\"id\": \"place-body\"})[0].text.replace(\"\\n\",'')\n",
    "    placeAddress = str(zuppa.find_all(\"aside\", {\"class\": \"DDPageSiderail__details\"})[0].contents[1].text).replace(\"\\n\",\"\")\n",
    "    placeAlt_placeLong = str(zuppa.find_all(\"aside\", {\"class\": \"DDPageSiderail__details\"})[0].contents[3].text).replace(\"\\n\",\"\").split(\",\")\n",
    "        \n",
    "    try:\n",
    "        placePubDate = zuppa.find_all(\"div\", {\"class\": \"DDPContributor__name\"})[0].text\n",
    "        placePubDate = None if len(placePubDate) == 0 else placePubDate\n",
    "    except IndexError: placePubDate = None\n",
    "            \n",
    "    try:\n",
    "        my_div = zuppa.find_all(\"div\", {\"class\": \"card-grid CardRecircSection__card-grid js-inject-gtm-data-in-child-links\"})[1]           \n",
    "        placeRelatedPlaces = [i.contents[1].text for i in my_div.find_all(\"h3\", {\"class\":\"Card__heading --content-card-v2-title js-title-content\"})]\n",
    "        placeRelatedPlaces = None if len(placeRelatedPlaces) == 0 else placeRelatedPlaces\n",
    "    except IndexError: placeRelatedPlaces = None\n",
    "            \n",
    "    try:\n",
    "        my_div0 = zuppa.find_all(\"div\", {\"class\": \"card-grid CardRecircSection__card-grid js-inject-gtm-data-in-child-links\"})[0]\n",
    "        placeNearby = [i.contents[1].text for i in my_div0.find_all(\"h3\", {\"class\":\"Card__heading --content-card-v2-title js-title-content\"})]\n",
    "        placeNearby = None if len(placeNearby) == 0 else placeNearby\n",
    "    except IndexError: placeNearby = None\n",
    "            \n",
    "    try:\n",
    "        tag = soup.find_all(\"div\", {\"class\": \"item-tags col-xs-12\"})[0]\n",
    "        place_tag = [i.contents[0].text.replace(\"\\n\",\"\") for i in tag.find_all(\"a\")]\n",
    "        place_tag = None if len(place_tag) == 0 else place_tag\n",
    "    except IndexError: place_tag = None\n",
    "        \n",
    "    try:\n",
    "        placeEditors = soup.find_all(\"a\", {\"class\": \"DDPContributorsList__contributor\"}, href=True)                                        #11\n",
    "        placeEditors = [x.text.replace(\"\\n\",\"\") for x in placeEditors]\n",
    "        placeEditors = None if len(placeEditors) == 0 else placeEditors\n",
    "    except IndexError: placeEditors = None\n",
    "            \n",
    "            \n",
    "    data = {\"placeName\" : placeName, \"placeLocation\" : placeLocation, \"numPeopleVisited\" : numPeopleVisited,\n",
    "            \"numPeopleWant\" : numPeopleWant, \"placeDesc\" : placeDesc, \"placeShortDesc\" : placeShortDesc, \n",
    "            \"placeAddress\" : placeAddress, \"placeAlt\" : placeAlt_placeLong[0], \"placeLong\" :placeAlt_placeLong[1],\n",
    "            \"placePubDate\" :placePubDate,  \"placeTags\" : place_tag, \n",
    "            \"placeNearby\" : placeNearby, \"placeRelatedPlaces\": placeRelatedPlaces, \"placeEditors\" : placeEditors}\n",
    "        \n",
    "    return data\n"
   ]
  },
  {
   "cell_type": "markdown",
   "id": "3e8aac8d",
   "metadata": {},
   "source": [
    "Build the DataFrame :"
   ]
  },
  {
   "cell_type": "code",
   "execution_count": null,
   "id": "76be7643",
   "metadata": {
    "scrolled": false
   },
   "outputs": [],
   "source": [
    "data = pd.DataFrame()\n",
    "\n",
    "for i in tqdm(range(len(urls))):\n",
    "    \n",
    "    u = 'https://www.atlasobscura.com' + urls[i]\n",
    "    result = requests.get( url = u, headers = {'User-agent': 'your bot 1.1'})\n",
    "    \n",
    "    if result.status_code == requests.codes.ok:\n",
    "        \n",
    "        soup = bs(result.text, 'html.parser')\n",
    "        d = extract_single_place(soup)\n",
    "        d[\"placeUrl\"] = u\n",
    "        data = data.append(d, ignore_index=True)\n",
    "        \n",
    "    else:\n",
    "        time.sleep(160)\n",
    "        i = i-1\n",
    "        \n",
    "# if not all places are collected, do the request again for those URLs that are not in data['placeUrl'] column"
   ]
  },
  {
   "cell_type": "code",
   "execution_count": 7,
   "id": "d1855af3",
   "metadata": {
    "scrolled": false
   },
   "outputs": [
    {
     "name": "stdout",
     "output_type": "stream",
     "text": [
      "data.shape : (7200, 15)\n",
      "\n",
      "Missing values in DataFrame :\n",
      "\n",
      "placeName              0\n",
      "numPeopleVisited       0\n",
      "numPeopleWant          0\n",
      "placeDesc              0\n",
      "placeShortDesc         0\n",
      "placeAddress           0\n",
      "placeAlt               0\n",
      "placeLong              0\n",
      "placeUrl               0\n",
      "placeLocation          1\n",
      "placePubDate           1\n",
      "placeNearby            1\n",
      "placeEditors           6\n",
      "placeRelatedPlaces    29\n",
      "placeTags             34\n",
      "dtype: int64\n"
     ]
    }
   ],
   "source": [
    "print(\"data.shape :\", data.shape)\n",
    "print(\"\\nMissing values in DataFrame :\\n\", data.isna().sum().sort_values(ascending = True), sep=\"\\n\")"
   ]
  },
  {
   "cell_type": "code",
   "execution_count": 80,
   "id": "42768053",
   "metadata": {
    "scrolled": false
   },
   "outputs": [
    {
     "data": {
      "image/png": "[encoded data removed]",
      "text/plain": [
       "<Figure size 432x288 with 1 Axes>"
      ]
     },
     "metadata": {
      "needs_background": "light"
     },
     "output_type": "display_data"
    }
   ],
   "source": [
    "na_df = (data.isnull().sum() / len(data)) * 100\n",
    "na_df = na_df.drop(na_df[na_df == 0].index).sort_values(ascending = False)\n",
    "na_df = pd.DataFrame({' % of NaN' : na_df})\n",
    "ax = na_df.plot(kind = \"barh\")\n",
    "ax.grid(linestyle = ':')\n",
    "ax.set_title(\"\\n% of missing values\\n\", fontsize=14)\n",
    "ax.set_ylabel(\"columns\", fontsize=12);"
   ]
  },
  {
   "cell_type": "code",
   "execution_count": 9,
   "id": "db429705",
   "metadata": {
    "scrolled": false
   },
   "outputs": [],
   "source": [
    "data.to_csv(\"data_data.csv\", sep= '\\t', encoding = 'utf-8')"
   ]
  },
  {
   "cell_type": "markdown",
   "id": "caa19eb9",
   "metadata": {},
   "source": [
    "-----------------------------------------------------------------------------------"
   ]
  },
  {
   "cell_type": "markdown",
   "id": "770d665d",
   "metadata": {},
   "source": [
    "## Search Engines :\n",
    "\n",
    "<br>"
   ]
  },
  {
   "cell_type": "code",
   "execution_count": 3,
   "id": "0f919e99",
   "metadata": {
    "scrolled": false
   },
   "outputs": [],
   "source": [
    "from engine import module"
   ]
  },
  {
   "cell_type": "code",
   "execution_count": 4,
   "id": "2aa67b0a",
   "metadata": {
    "scrolled": false
   },
   "outputs": [
    {
     "name": "stdout",
     "output_type": "stream",
     "text": [
      "\n",
      " data.shape : (7200, 15)\n"
     ]
    }
   ],
   "source": [
    "data = pd.read_csv('data_data.csv', sep = \"\\t\", index_col = 0)\n",
    "\n",
    "N = data.shape[0]  ## 𝑁 = 7200 (total number of documents in the Corpus)\n",
    "\n",
    "print(\"\\n data.shape :\", data.shape)"
   ]
  },
  {
   "cell_type": "code",
   "execution_count": 5,
   "id": "e1d0b7e1",
   "metadata": {
    "scrolled": false
   },
   "outputs": [
    {
     "data": {
      "text/html": [
       "<div>\n",
       "<style scoped>\n",
       "    .dataframe tbody tr th:only-of-type {\n",
       "        vertical-align: middle;\n",
       "    }\n",
       "\n",
       "    .dataframe tbody tr th {\n",
       "        vertical-align: top;\n",
       "    }\n",
       "\n",
       "    .dataframe thead th {\n",
       "        text-align: right;\n",
       "    }\n",
       "</style>\n",
       "<table border=\"1\" class=\"dataframe\">\n",
       "  <thead>\n",
       "    <tr style=\"text-align: right;\">\n",
       "      <th></th>\n",
       "      <th>placeName</th>\n",
       "      <th>placeLocation</th>\n",
       "      <th>numPeopleVisited</th>\n",
       "      <th>numPeopleWant</th>\n",
       "      <th>placeDesc</th>\n",
       "      <th>placeShortDesc</th>\n",
       "      <th>placeAddress</th>\n",
       "      <th>placeAlt</th>\n",
       "      <th>placeLong</th>\n",
       "      <th>placePubDate</th>\n",
       "      <th>placeTags</th>\n",
       "      <th>placeNearby</th>\n",
       "      <th>placeRelatedPlaces</th>\n",
       "      <th>placeEditors</th>\n",
       "      <th>placeUrl</th>\n",
       "    </tr>\n",
       "  </thead>\n",
       "  <tbody>\n",
       "    <tr>\n",
       "      <th>0</th>\n",
       "      <td>City Hall Station</td>\n",
       "      <td>Manhattan, New York</td>\n",
       "      <td>1885.0</td>\n",
       "      <td>8992.0</td>\n",
       "      <td>The first New York City subway was built and o...</td>\n",
       "      <td>A beautiful and abandoned New York subway stat...</td>\n",
       "      <td>31 Centre StNew York, New York, 10007United St...</td>\n",
       "      <td>40.7134</td>\n",
       "      <td>-74.0046</td>\n",
       "      <td>May 8, 2010</td>\n",
       "      <td>['subways', 'subterranean', 'infrastructure', ...</td>\n",
       "      <td>['African Burial Ground National Monument', 'T...</td>\n",
       "      <td>['Crystal Palace Subway', 'Moscow Metro Statio...</td>\n",
       "      <td>['Rebekah Otto', 'wythe', 'Allan', 'jrc2692', ...</td>\n",
       "      <td>https://www.atlasobscura.com/places/city-hall-...</td>\n",
       "    </tr>\n",
       "    <tr>\n",
       "      <th>1</th>\n",
       "      <td>Highgate Cemetery</td>\n",
       "      <td>London, England</td>\n",
       "      <td>2761.0</td>\n",
       "      <td>8529.0</td>\n",
       "      <td>Opened in 1839, Highgate is one of London’s mo...</td>\n",
       "      <td>London's creepiest cemetery was once the site ...</td>\n",
       "      <td>Swain's Lane, HighgateLondon, England, N6Unite...</td>\n",
       "      <td>51.5675</td>\n",
       "      <td>-0.1483</td>\n",
       "      <td>August 9, 2014</td>\n",
       "      <td>['rivals week', 'vampires', 'hoaxes', 'occult'...</td>\n",
       "      <td>[\"World's Largest Potted Plant\", 'Dick Whittin...</td>\n",
       "      <td>['Jewett City Vampires', 'Tomb of the Mather F...</td>\n",
       "      <td>['Rob', 'SEANETTA', 'TeaAndCoffeeLover', 'Gavi...</td>\n",
       "      <td>https://www.atlasobscura.com/places/highgate-c...</td>\n",
       "    </tr>\n",
       "    <tr>\n",
       "      <th>2</th>\n",
       "      <td>Leadenhall Market</td>\n",
       "      <td>London, England</td>\n",
       "      <td>3314.0</td>\n",
       "      <td>8063.0</td>\n",
       "      <td>The ornate 19th-century painted roof and cobbl...</td>\n",
       "      <td>This ornate Victorian marketplace was the sett...</td>\n",
       "      <td>London, England, EC3VUnited Kingdom</td>\n",
       "      <td>51.5126</td>\n",
       "      <td>-0.0834</td>\n",
       "      <td>August 1, 2016</td>\n",
       "      <td>['markets', 'film locations', 'film']</td>\n",
       "      <td>['The Cornhill Devils ', \"London's Original an...</td>\n",
       "      <td>['Site of Charlie Chaplin Studios', 'Rivendell...</td>\n",
       "      <td>['Meg', 'lili', 'Julius Spada', 'Martin', 'jul...</td>\n",
       "      <td>https://www.atlasobscura.com/places/leadenhall...</td>\n",
       "    </tr>\n",
       "  </tbody>\n",
       "</table>\n",
       "</div>"
      ],
      "text/plain": [
       "           placeName        placeLocation  numPeopleVisited  numPeopleWant  \\\n",
       "0  City Hall Station  Manhattan, New York            1885.0         8992.0   \n",
       "1  Highgate Cemetery      London, England            2761.0         8529.0   \n",
       "2  Leadenhall Market      London, England            3314.0         8063.0   \n",
       "\n",
       "                                           placeDesc  \\\n",
       "0  The first New York City subway was built and o...   \n",
       "1  Opened in 1839, Highgate is one of London’s mo...   \n",
       "2  The ornate 19th-century painted roof and cobbl...   \n",
       "\n",
       "                                      placeShortDesc  \\\n",
       "0  A beautiful and abandoned New York subway stat...   \n",
       "1  London's creepiest cemetery was once the site ...   \n",
       "2  This ornate Victorian marketplace was the sett...   \n",
       "\n",
       "                                        placeAddress  placeAlt  placeLong  \\\n",
       "0  31 Centre StNew York, New York, 10007United St...   40.7134   -74.0046   \n",
       "1  Swain's Lane, HighgateLondon, England, N6Unite...   51.5675    -0.1483   \n",
       "2                London, England, EC3VUnited Kingdom   51.5126    -0.0834   \n",
       "\n",
       "     placePubDate                                          placeTags  \\\n",
       "0     May 8, 2010  ['subways', 'subterranean', 'infrastructure', ...   \n",
       "1  August 9, 2014  ['rivals week', 'vampires', 'hoaxes', 'occult'...   \n",
       "2  August 1, 2016              ['markets', 'film locations', 'film']   \n",
       "\n",
       "                                         placeNearby  \\\n",
       "0  ['African Burial Ground National Monument', 'T...   \n",
       "1  [\"World's Largest Potted Plant\", 'Dick Whittin...   \n",
       "2  ['The Cornhill Devils ', \"London's Original an...   \n",
       "\n",
       "                                  placeRelatedPlaces  \\\n",
       "0  ['Crystal Palace Subway', 'Moscow Metro Statio...   \n",
       "1  ['Jewett City Vampires', 'Tomb of the Mather F...   \n",
       "2  ['Site of Charlie Chaplin Studios', 'Rivendell...   \n",
       "\n",
       "                                        placeEditors  \\\n",
       "0  ['Rebekah Otto', 'wythe', 'Allan', 'jrc2692', ...   \n",
       "1  ['Rob', 'SEANETTA', 'TeaAndCoffeeLover', 'Gavi...   \n",
       "2  ['Meg', 'lili', 'Julius Spada', 'Martin', 'jul...   \n",
       "\n",
       "                                            placeUrl  \n",
       "0  https://www.atlasobscura.com/places/city-hall-...  \n",
       "1  https://www.atlasobscura.com/places/highgate-c...  \n",
       "2  https://www.atlasobscura.com/places/leadenhall...  "
      ]
     },
     "metadata": {},
     "output_type": "display_data"
    }
   ],
   "source": [
    "display(data.head(3))\n",
    "tqdm.pandas()"
   ]
  },
  {
   "cell_type": "markdown",
   "id": "a7dbd0c5",
   "metadata": {},
   "source": [
    "--------------------------------------\n",
    "\n",
    "Standard **text pre-processing** procedures performed via the `preprosessing` function imported from `main.py`\n",
    "\n",
    "This function takes long a string as input and returns preprocessed token list. Pre-processing consists of the following operations:\n",
    "\n",
    "- Removing non-alphanumeric characters using `regular expressions`:\\\n",
    "    The `re.sub` function is used to replace characters that are not letters or numbers with a blank space.\n",
    "\n",
    "\n",
    "- Removing **punctuation** using the `translate()` method and the `str.maketrans()` function\n",
    "\n",
    "\n",
    "- **Tokenization**: the preprocessed string is split into a list of words using a blank space as a delimiter.\\\n",
    "    Converting tokens to lowercase: Each word in the list is converted to lowercase using the `lower()` method.\n",
    "\n",
    "\n",
    "- Removing **StopWords** using the **NLTK library**:\\\n",
    "    The list of tokens is compared to a set of common English words (stopwords) and the matching words are removed from the     list.\n",
    "    \n",
    "\n",
    "- **Stemming** with **NLTK library**:\\\n",
    "   Remaining words in list are reduced to their stem using the Porter stemming algorithm implemented with `PorterStemmer()`\n",
    " \n",
    " \n",
    "- Non-alphabetic word removal: word list is filtered to remove any numbers or symbols.\n",
    "\n",
    "Finally, the function returns the preprocessed word list as output."
   ]
  },
  {
   "cell_type": "code",
   "execution_count": 6,
   "id": "bab69b6f",
   "metadata": {
    "scrolled": false
   },
   "outputs": [
    {
     "name": "stderr",
     "output_type": "stream",
     "text": [
      "100%|█████████████████████████████████████████████████████████████████████████████| 7200/7200 [00:28<00:00, 254.54it/s]\n"
     ]
    },
    {
     "name": "stdout",
     "output_type": "stream",
     "text": [
      "Execution time: 0:00:28.29 seconds\n"
     ]
    }
   ],
   "source": [
    "st = time.time()\n",
    "data['list_words'] = data[\"placeDesc\"].progress_apply(lambda desc: module.preprocess(desc))\n",
    "et = time.time()\n",
    "\n",
    "print('Execution time:', str(datetime.timedelta(seconds = et - st))[:10] , 'seconds')"
   ]
  },
  {
   "cell_type": "markdown",
   "id": "8a63d026",
   "metadata": {},
   "source": [
    "The `apply()` method is used to apply a lambda function to each row of the `placeDesc` column.\\\n",
    "The **lambda** function calls a `preprocess()` function from a module, passing in the value of `placeDesc`.\\\n",
    "The result of the function is assigned to the new `list_words` column.\n"
   ]
  },
  {
   "cell_type": "code",
   "execution_count": 7,
   "id": "d7c78486",
   "metadata": {
    "scrolled": false
   },
   "outputs": [
    {
     "name": "stdout",
     "output_type": "stream",
     "text": [
      " data.shape : (7200, 16) \n",
      "\n",
      "Document 4472:\n",
      "\n",
      " - placeName :  Vienna Grand Ferris Wheel\n",
      " - placeDesc : \"Vienna’s grand ferris wheel, the Wiener Riesenrad, was, until 1985, the largest in the ...\"\n",
      " - listWords : ['vienna', 'grand', 'ferri', 'wheel', 'wiener', 'riesenrad', 'largest', 'world', ... ]\n"
     ]
    }
   ],
   "source": [
    "print(\" data.shape :\", data.shape, '\\n')\n",
    "\n",
    "print(\"Document 4472:\\n\")\n",
    "print(\" - placeName : \", data['placeName'][4472])\n",
    "print(' - placeDesc :', '\"'+data['placeDesc'][4472][:87]+'...\"')\n",
    "print(' - listWords :', str(data['list_words'][4472][:8]).split(\"]\")[0]+\", ... ]\")"
   ]
  },
  {
   "cell_type": "markdown",
   "id": "a2768808",
   "metadata": {},
   "source": [
    "-------------------------------------------\n",
    "\n",
    "Build a dictionary named **Vocabulary**. It is  a `Counter` object that maps each word to its frequency in the **Corpus of documents**\\\n",
    "Vocabulary: `keys` are unique tokenized words in corpus of documents, `values` their count in Courpus\n",
    "\n",
    "The `reduce()` function is used in combination with a `lambda` function to concatenate all the words in the `list_words` column into a single string.\\\n",
    "The resulting string is then passed to the `Counter()` constructor, which creates the mapping of word counts."
   ]
  },
  {
   "cell_type": "code",
   "execution_count": 8,
   "id": "8f310d22",
   "metadata": {
    "scrolled": false
   },
   "outputs": [],
   "source": [
    "from collections import Counter \n",
    "from functools import reduce"
   ]
  },
  {
   "cell_type": "code",
   "execution_count": 10,
   "id": "bf10cb30",
   "metadata": {
    "scrolled": false
   },
   "outputs": [
    {
     "name": "stdout",
     "output_type": "stream",
     "text": [
      "Execution time: 0:01:35.97 minutes\n"
     ]
    }
   ],
   "source": [
    "st = time.time()\n",
    "vocabulary = Counter(reduce(lambda x, y: x + y, data.list_words))\n",
    "et = time.time()\n",
    "\n",
    "n_tokens = len(vocabulary.keys())  # = 63641\n",
    "\n",
    "print('Execution time:', str(datetime.timedelta(seconds = et - st))[:10], 'minutes')"
   ]
  },
  {
   "cell_type": "markdown",
   "id": "3569cb35",
   "metadata": {},
   "source": [
    "Create a dictionary `word_dict` that maps unique words in the corpus to an **integer ID**, starting from 1:"
   ]
  },
  {
   "cell_type": "code",
   "execution_count": 11,
   "id": "420886ec",
   "metadata": {
    "scrolled": false
   },
   "outputs": [],
   "source": [
    "word_dict = {}      # initialize empty dictionary\n",
    "item_id = 1         # set term_id counter\n",
    "\n",
    "for word in vocabulary.keys():  # iterating over unique words in corpus of documents\n",
    "    word_dict[word] = item_id   # assign an integer = term_id to each word \n",
    "    item_id += 1"
   ]
  },
  {
   "cell_type": "code",
   "execution_count": 12,
   "id": "772af5b1",
   "metadata": {
    "scrolled": false
   },
   "outputs": [
    {
     "name": "stdout",
     "output_type": "stream",
     "text": [
      "\n",
      "  id :    words :    occurrence :\n",
      "------  ---------  --------------\n",
      " 130    'london'        564\n",
      " 136     'park'         3118\n",
      " 119    'museum'        3882\n",
      " 5823    'food'         500\n",
      "10833   'vienna'         77\n",
      "\n",
      "   'Vocabulary' :  <class 'collections.Counter'>   lenght = 63641  \n",
      "\n"
     ]
    }
   ],
   "source": [
    "es = ['london', 'park', 'museum', 'food', 'vienna']\n",
    "\n",
    "table = zip([word_dict[x] for x in es], [\"'\"+ x +\"'\" for x in es], [vocabulary[x] for x in es])\n",
    "\n",
    "print(\"\\n\", tabulate(list(table), headers=[\"id :\", \"words :\", \"occurrence :\"], \n",
    "                                 numalign='center', stralign=\"center\"))\n",
    "\n",
    "print(\"\\n   'Vocabulary' :  {}   lenght = {} \".format(type(vocabulary), len(vocabulary.keys())),'\\n')"
   ]
  },
  {
   "cell_type": "code",
   "execution_count": 13,
   "id": "4100bcd4",
   "metadata": {
    "scrolled": false
   },
   "outputs": [],
   "source": [
    "c, ind_dic = 1, {}              ## N.B.\n",
    "for key in word_dict.keys():   ## we will need 'ind_dic' in order to retrieve words form their IDs\n",
    "    ind_dic[c] = key           \n",
    "    c+=1                      "
   ]
  },
  {
   "cell_type": "markdown",
   "id": "8bd58ac0",
   "metadata": {},
   "source": [
    "-----------------------------------------\n",
    "Create an **Inverted Index** dictionary called `inverted_idx` from the words in `word_dict`.\n",
    "\n",
    "For each `(word, item_id)` pair in `word_dict`, add an entry to `inverted_idx` where:\n",
    "- the **key** is the `item_id` \n",
    "- the **value** is a list of indexes where the corresponding `word` appears in the `list_words` column of the DataFrame.\n",
    "\n",
    "The `apply` method is used to apply the lambda function to each row in the `list_words` column of the DataFrame.\\\n",
    "The **lambda** function checks whether `word` is in the row, and the resulting Boolean values are used to filter the rows.\n"
   ]
  },
  {
   "cell_type": "code",
   "execution_count": 14,
   "id": "3522b6de",
   "metadata": {
    "scrolled": false
   },
   "outputs": [],
   "source": [
    "import pickle"
   ]
  },
  {
   "cell_type": "code",
   "execution_count": 15,
   "id": "d32fb613",
   "metadata": {
    "scrolled": false
   },
   "outputs": [],
   "source": [
    "with open('II_v1.pkl', 'rb') as f:\n",
    "    inverted_idx = pickle.load(f)"
   ]
  },
  {
   "cell_type": "code",
   "execution_count": 17,
   "id": "0de56a48",
   "metadata": {
    "scrolled": false
   },
   "outputs": [
    {
     "name": "stderr",
     "output_type": "stream",
     "text": [
      "100%|████████████████████████████████████████████████████████████████████████████| 63641/63641 [38:19<00:00, 27.68it/s]\n"
     ]
    }
   ],
   "source": [
    "inverted_idx = {}   \n",
    "\n",
    "for (word, item_id) in tqdm(word_dict.items()):\n",
    "    \n",
    "    inverted_idx[item_id] = list( data [ data.list_words.apply(lambda row: word in row) ].index)"
   ]
  },
  {
   "cell_type": "code",
   "execution_count": 16,
   "id": "70086b58",
   "metadata": {
    "scrolled": false
   },
   "outputs": [
    {
     "name": "stdout",
     "output_type": "stream",
     "text": [
      "\n",
      " Inverted Index :\n",
      "\n",
      "\t'would' : ID = 85  →  [0, 1, 12, 15, 18, 19, 30, 31, 53, 60, ...]  →  in 1675 docs  \n",
      "\n",
      "\t'beard' : ID = 153  →  [1, 251, 827, 1553, 1756, 1856, 1911, 2463, 3220, 3347, ...]  →  in 29 docs  \n",
      "\n",
      "\t'agent' : ID = 5163  →  [105, 169, 211, 369, 505, 529, 560, 567, 706, 797, ...]  →  in 33 docs  \n",
      "\n",
      "\t'hitler' : ID = 4119  →  [69, 331, 664, 850, 1060, 1417, 1924, 1935, 2036, 2361, ...]  →  in 43 docs  \n",
      "\n",
      "\t'golf' : ID = 12438  →  [480, 486, 545, 591, 594, 664, 684, 863, 976, 987, ...]  →  in 65 docs  \n",
      "\n"
     ]
    }
   ],
   "source": [
    "print(\"\\n Inverted Index :\\n\")\n",
    "randomlist = [85, 153, 5163, 4119, 12438]\n",
    "\n",
    "for i in randomlist:\n",
    "    \n",
    "    postings = str(inverted_idx[i][:10]).split(\"]\")[0]\n",
    "    print(\"\\t'{}' : ID = {}  →  {}, ...]  →  in {} docs \".format(ind_dic[i], i, postings, len(inverted_idx[i])),\"\\n\")\n",
    "\n",
    "# 85 - 0, 1, 12, 15 in 1675 docs"
   ]
  },
  {
   "cell_type": "markdown",
   "id": "c6f85593",
   "metadata": {},
   "source": [
    "<img style=\"float: left;\" src=\"https://nlp.stanford.edu/IR-book/html/htmledition/img43.png\">"
   ]
  },
  {
   "cell_type": "markdown",
   "id": "b4c913d8",
   "metadata": {},
   "source": [
    "<br>"
   ]
  },
  {
   "cell_type": "code",
   "execution_count": 21,
   "id": "d3dc2090",
   "metadata": {
    "scrolled": false
   },
   "outputs": [],
   "source": [
    "II = open(\"II_v1.pkl\", \"wb\")\n",
    "pickle.dump(inverted_idx, II)   \n",
    "II.close()"
   ]
  },
  {
   "cell_type": "markdown",
   "id": "6ac74290",
   "metadata": {},
   "source": [
    "-----------------------------------------\n",
    "\n",
    "### Boolean Search : \n",
    "\n",
    "The imported `boolean_search` function performs a **boolean** search on a given query string against the **Inverted Index**.\\\n",
    "The query must contain **only two terms** and an operation (`'AND'`, `'OR'`, or `'AND NOT'`) is used to determine how the search should be performed.\n",
    "\n",
    "The inverted index and word dictionary are used to retrieve the documents index that match the query terms.\\\n",
    "Depending on the operation, **intersection** ($\\cap$), **union** ($\\cup$), or **difference** ($\\setminus$) is performed on the resulting sets of documents.\n",
    "\n",
    "The function shows the number of matching documents and optionally returns and displays their relevant information from the DataFrame.\\\n",
    "If an error occurs due to a missing query term in the Vocabulary dictionary, an appropriate message is displayed.\n",
    "\n",
    "<br>"
   ]
  },
  {
   "cell_type": "markdown",
   "id": "b3ed63d3",
   "metadata": {},
   "source": [
    "<img style=\"float: left; width:630px; height:290px\" src=\"//s3.amazonaws.com/libapps/accounts/39380/images/booleanOperators.png\">"
   ]
  },
  {
   "cell_type": "markdown",
   "id": "7032f1f5",
   "metadata": {},
   "source": [
    "<br>"
   ]
  },
  {
   "cell_type": "code",
   "execution_count": 17,
   "id": "6af4b735",
   "metadata": {
    "scrolled": true
   },
   "outputs": [
    {
     "name": "stdout",
     "output_type": "stream",
     "text": [
      "\n",
      "query : 'Museum AND American'\n",
      "\n",
      " results = 234 matching documents\n"
     ]
    },
    {
     "data": {
      "text/html": [
       "<div>\n",
       "<style scoped>\n",
       "    .dataframe tbody tr th:only-of-type {\n",
       "        vertical-align: middle;\n",
       "    }\n",
       "\n",
       "    .dataframe tbody tr th {\n",
       "        vertical-align: top;\n",
       "    }\n",
       "\n",
       "    .dataframe thead th {\n",
       "        text-align: right;\n",
       "    }\n",
       "</style>\n",
       "<table border=\"1\" class=\"dataframe\">\n",
       "  <thead>\n",
       "    <tr style=\"text-align: right;\">\n",
       "      <th></th>\n",
       "      <th>placeName</th>\n",
       "      <th>placeLocation</th>\n",
       "      <th>placeDesc</th>\n",
       "      <th>placeUrl</th>\n",
       "    </tr>\n",
       "  </thead>\n",
       "  <tbody>\n",
       "    <tr>\n",
       "      <th>6146</th>\n",
       "      <td>99s Museum of Women Pilots</td>\n",
       "      <td>Oklahoma City, Oklahoma</td>\n",
       "      <td>Women pilots had been barred from participatin...</td>\n",
       "      <td>https://www.atlasobscura.com/places/museum-of-...</td>\n",
       "    </tr>\n",
       "    <tr>\n",
       "      <th>1027</th>\n",
       "      <td>Museum of Natural and Other Curiosities</td>\n",
       "      <td>Hartford, Connecticut</td>\n",
       "      <td>The Old State House in Hartford, Connecticut h...</td>\n",
       "      <td>https://www.atlasobscura.com/places/museum-nat...</td>\n",
       "    </tr>\n",
       "    <tr>\n",
       "      <th>3077</th>\n",
       "      <td>Chimney Rock</td>\n",
       "      <td>Bayard, Nebraska</td>\n",
       "      <td>Chimney Rock stands tall over the Oregon Trail...</td>\n",
       "      <td>https://www.atlasobscura.com/places/chimney-rock</td>\n",
       "    </tr>\n",
       "    <tr>\n",
       "      <th>3079</th>\n",
       "      <td>Aria Antiques</td>\n",
       "      <td>San Francisco, California</td>\n",
       "      <td>Tucked between the Italian bakeries and laundr...</td>\n",
       "      <td>https://www.atlasobscura.com/places/aria-antiques</td>\n",
       "    </tr>\n",
       "    <tr>\n",
       "      <th>6163</th>\n",
       "      <td>National Cookie Cutter Historical Museum</td>\n",
       "      <td>Joplin, Missouri</td>\n",
       "      <td>A sugar cookie is essentially just a baked lum...</td>\n",
       "      <td>https://www.atlasobscura.com/places/national-c...</td>\n",
       "    </tr>\n",
       "  </tbody>\n",
       "</table>\n",
       "</div>"
      ],
      "text/plain": [
       "                                     placeName              placeLocation  \\\n",
       "6146                99s Museum of Women Pilots    Oklahoma City, Oklahoma   \n",
       "1027   Museum of Natural and Other Curiosities      Hartford, Connecticut   \n",
       "3077                              Chimney Rock           Bayard, Nebraska   \n",
       "3079                             Aria Antiques  San Francisco, California   \n",
       "6163  National Cookie Cutter Historical Museum           Joplin, Missouri   \n",
       "\n",
       "                                              placeDesc  \\\n",
       "6146  Women pilots had been barred from participatin...   \n",
       "1027  The Old State House in Hartford, Connecticut h...   \n",
       "3077  Chimney Rock stands tall over the Oregon Trail...   \n",
       "3079  Tucked between the Italian bakeries and laundr...   \n",
       "6163  A sugar cookie is essentially just a baked lum...   \n",
       "\n",
       "                                               placeUrl  \n",
       "6146  https://www.atlasobscura.com/places/museum-of-...  \n",
       "1027  https://www.atlasobscura.com/places/museum-nat...  \n",
       "3077   https://www.atlasobscura.com/places/chimney-rock  \n",
       "3079  https://www.atlasobscura.com/places/aria-antiques  \n",
       "6163  https://www.atlasobscura.com/places/national-c...  "
      ]
     },
     "metadata": {},
     "output_type": "display_data"
    },
    {
     "name": "stdout",
     "output_type": "stream",
     "text": [
      " df.shape (234, 4)\n"
     ]
    }
   ],
   "source": [
    "AND_q = module.boolean_search(\"Museum AND American\", inverted_idx, word_dict, data, show=True)"
   ]
  },
  {
   "cell_type": "code",
   "execution_count": 18,
   "id": "163ea227",
   "metadata": {
    "scrolled": false
   },
   "outputs": [
    {
     "name": "stdout",
     "output_type": "stream",
     "text": [
      "\n",
      "query : 'Museum OR American'\n",
      "\n",
      " results = 2040 matching documents\n"
     ]
    }
   ],
   "source": [
    "module.boolean_search(\"Museum OR American\", inverted_idx, word_dict, data)"
   ]
  },
  {
   "cell_type": "code",
   "execution_count": 19,
   "id": "1720a4c1",
   "metadata": {
    "scrolled": false
   },
   "outputs": [
    {
     "name": "stdout",
     "output_type": "stream",
     "text": [
      "\n",
      "query : 'Museum AND NOT American'\n",
      "\n",
      " results = 1220 matching documents\n",
      "\n",
      " ------------------------------\n",
      "\n",
      "query : 'American AND NOT Museum'\n",
      "\n",
      " results = 586 matching documents\n"
     ]
    }
   ],
   "source": [
    "module.boolean_search(\"Museum AND NOT American\", inverted_idx, word_dict, data)\n",
    "print(\"\\n ------------------------------\")\n",
    "module.boolean_search(\"American AND NOT Museum\", inverted_idx, word_dict, data)"
   ]
  },
  {
   "cell_type": "markdown",
   "id": "b300dfdc",
   "metadata": {},
   "source": [
    "--------------------------------------------------\n",
    "------------------------------------------------"
   ]
  },
  {
   "cell_type": "markdown",
   "id": "1defb658",
   "metadata": {},
   "source": [
    "#### **Inverse Document Frequency (IDF) :**\n",
    "\n",
    "IDF, or **Inverse Document Frequency** is used `to evaluate the importance of a term in a collection of documents.`\\\n",
    "IDF helps in `identifying how rare or common a term is in the entire document corpus.`\\\n",
    "Essential in determining the value of a term in distinguishing one document from another.\n",
    "\n",
    "The **IDF** formula calculates the importance of a term $t$ in a document corpus $D$ by taking the total number of documents in the corpus $N$ and\\\n",
    "dividing it by the number of documents $\\text{df}_t$ in which the term $t$ appears\\\n",
    "The resulting value is then logarithmically scaled to ensure that the IDF value increases as the term becomes rarer in the corpus :\n",
    "\n",
    "$$ \\text{IDF (t, D)} = \\log \\frac{N}{\\text{df}_t} $$\n",
    "&ensp;&ensp; Where:\n",
    "\n",
    "&thinsp;&ensp;&thinsp;&ensp;&thinsp; - $t$ is the term being analyzed\n",
    "&thinsp;&ensp;&thinsp;&ensp;&thinsp; - $D$ is the document corpus\n",
    "&thinsp;&ensp;&thinsp;&ensp;&thinsp; - $N$ is the total number of documents in the corpus\\\n",
    "&thinsp;&ensp;&thinsp;&ensp;&thinsp; - $\\text{df}_t$ is the number of documents in which the term $t$ appears.\n",
    "\n",
    "The IDF formula helps to `reduce the impact of common terms that occur frequently in the corpus`\\\n",
    "and `increases the importance of rare terms that can distinguish one document from another`."
   ]
  },
  {
   "cell_type": "code",
   "execution_count": 20,
   "id": "d668914d",
   "metadata": {
    "scrolled": false
   },
   "outputs": [],
   "source": [
    "IDFs = {}\n",
    "\n",
    "for term in inverted_idx.keys():\n",
    "    \n",
    "    IDFs[term] = np.log10( N / len(inverted_idx[term]))  \n",
    "  # IDFs[term] = math.log( N / float(len(inverted_idx[term])))"
   ]
  },
  {
   "cell_type": "code",
   "execution_count": 21,
   "id": "31b4f454",
   "metadata": {
    "scrolled": false
   },
   "outputs": [
    {
     "name": "stdout",
     "output_type": "stream",
     "text": [
      "\n",
      " Inverse Document Frequency : \t<class 'dict'> \t lenght = 63641\n",
      "\n",
      " id :    words :    IDFs :\n",
      "------  ---------  --------\n",
      " 130    'london'    1.4244\n",
      " 136     'park'     0.7023\n",
      " 119    'museum'    0.6948\n",
      " 5823    'food'     1.2998\n",
      "10833   'vienna'    2.1761\n"
     ]
    }
   ],
   "source": [
    "print(\"\\n Inverse Document Frequency : \\t{} \\t lenght = {}\\n\".format(type(IDFs), len(IDFs)))\n",
    "\n",
    "table = zip([word_dict[x] for x in es], [\"'\"+ x +\"'\" for x in es], [round(IDFs[word_dict[x]], 4) for x in es])\n",
    "\n",
    "print(tabulate(list(table), headers=[\"id :\",\"words :\",\"IDFs :\"], numalign='center', stralign=\"center\"))"
   ]
  },
  {
   "cell_type": "markdown",
   "id": "dcfa3018",
   "metadata": {},
   "source": [
    "-------------------------------------------------\n",
    "\n",
    "#### **Term Frequency - Inverse Document Frequency (TF_IDF) :**\n",
    "\n",
    "Construct a new **Inverted Index** by calculating the **TF_IDF score** for each term in the original Inverted Index.\n",
    "\n",
    "The TF_IDF, or **Term Frequency-Inverse Document Frequency** is a measure that combines **TF** (Term Frequency)\\\n",
    "and **IDF** (Inverse Document Frequency) to calculate the importance of a term in a collection of documents.\n",
    "\n",
    "The formula to calculate the TF-IDF of a term $t$ in a document $d$ within a corpus $D$ is:\n",
    "\n",
    "$$\\text{TF_IDF }(t, d) = \\text{TF}\\;(t, d) \\times \\text{IDF }(t, D) $$\n",
    "&ensp;&ensp; Where:\n",
    "\n",
    "&thinsp;&ensp;&thinsp;&ensp;&thinsp; - $\\text{TF}\\;(t, d)$ is the **TF value** for term $t$ in document $d$.\\\n",
    "&thinsp;&ensp;&thinsp;&ensp;&thinsp; - $\\text{IDF}\\;(t, D)$  is the **IDF value** for term $t$ in corpus $D$.\n",
    "\n",
    "The `result of the TF-IDF calculation is a vector that represents the importance of each term in a document relative to the entire corpus.`\n",
    "Each TF-IDF vector will contain a value for each term in the corpus, although some of these values will likely be zero if the term does not appear in the corresponding document.\n",
    "\n",
    "Moreover, the size of each TF-IDF vector depends on the number of unique terms in the vocabulary of the corpus. In this application : 15719\\\n",
    "The number of TF-IDF vectors in total depends on the number of documents in the corpus. Here just $7$"
   ]
  },
  {
   "cell_type": "code",
   "execution_count": 22,
   "id": "159168a7",
   "metadata": {
    "scrolled": false
   },
   "outputs": [],
   "source": [
    "def compute_TF(term, doc_words : list):\n",
    "    \n",
    "    occurence = doc_words.count(term)\n",
    "    tf = occurence/len(doc_words)\n",
    "        \n",
    "    return tf"
   ]
  },
  {
   "cell_type": "code",
   "execution_count": 23,
   "id": "4f0767ce",
   "metadata": {
    "scrolled": false
   },
   "outputs": [
    {
     "name": "stderr",
     "output_type": "stream",
     "text": [
      "100%|██████████████████████████████████████████████████████████████████████████| 63641/63641 [00:11<00:00, 5650.49it/s]\n"
     ]
    }
   ],
   "source": [
    "Inverted_Idx_v2 = {}\n",
    "\n",
    "for term in tqdm(inverted_idx.keys()):\n",
    "\n",
    "    for doc_idx, doc in enumerate(inverted_idx[term]):\n",
    "       \n",
    "        desc = data['list_words'][doc]\n",
    "        tf = compute_TF(ind_dic[term], desc) * IDFs[term]\n",
    "        \n",
    "        value = (inverted_idx[term][doc_idx], tf)\n",
    "        \n",
    "        if term not in Inverted_Idx_v2.keys():\n",
    "            \n",
    "            Inverted_Idx_v2[term] = [value]\n",
    "            \n",
    "        else: Inverted_Idx_v2[term].append(value)"
   ]
  },
  {
   "cell_type": "code",
   "execution_count": 24,
   "id": "dfd6a8c7",
   "metadata": {
    "scrolled": false
   },
   "outputs": [
    {
     "name": "stdout",
     "output_type": "stream",
     "text": [
      "\n",
      " Inverted Index (with TF_IDF):\n",
      "\n",
      "\t'would' : ID = 85   → [(0, 0.0068), (1, 0.0022), (12, 0.0047), (15, 0.0037), (18, 0.0129), ...]\n",
      "\n",
      "\t'beard' : ID = 153  → [(1, 0.0083), (251, 0.0299), (827, 0.0105), (1553, 0.0101), (1756, 0.0189), ...]\n",
      "\n",
      "\t'agent' : ID = 5163 → [(105, 0.0136), (169, 0.1073), (211, 0.0213), (369, 0.0082), (505, 0.0165), ...]\n",
      "\n",
      "\t'hitler' : ID = 4119 → [(69, 0.0103), (331, 0.012), (664, 0.02), (850, 0.0254), (1060, 0.0124), ...]\n",
      "\n",
      "\t'golf' : ID = 12438 → [(480, 0.0156), (486, 0.0352), (545, 0.0315), (591, 0.0156), (594, 0.0162), ...]\n",
      "\n",
      "\n"
     ]
    }
   ],
   "source": [
    "print(\"\\n Inverted Index (with TF_IDF):\\n\") \n",
    "\n",
    "for i in randomlist:\n",
    "    token = ind_dic[i]\n",
    "    number = str(i) \n",
    "    postings = str([(uno,round(due,4)) for uno,due in Inverted_Idx_v2[i][:5]]).split(']')[0]\n",
    "    print(\"\\t'{}' : ID = {:<4} → {}, ...]\\n\".format(token, number, postings)) \n",
    "    \n",
    "print(\"\")                                                "
   ]
  },
  {
   "cell_type": "markdown",
   "id": "1a6a229d",
   "metadata": {},
   "source": [
    "From this **Inverted Index** build a **matrix**, where each `row` represents a **document** and each `column` represents a **term**.\\\n",
    "The (sparse) matrix is filled with the **TF-IDF** of each term for each document.\\\n",
    "If a term does not appear in a document, the value in the corresponding matrix cell is 0.\\\n",
    "The `retrive_matrix` function uses a for loop to iterate over each document and term to populate this matrix.\\\n",
    "Then the NumPy array is saved into a compressed file in \".npz\" format."
   ]
  },
  {
   "cell_type": "code",
   "execution_count": 25,
   "id": "568d1ec3",
   "metadata": {
    "scrolled": false
   },
   "outputs": [
    {
     "name": "stdout",
     "output_type": "stream",
     "text": [
      "Load time: 0:00:15.95 seconds\n",
      "\n",
      " matrice.shape : (7200, 63641)\n"
     ]
    }
   ],
   "source": [
    "st = time.time()\n",
    "\n",
    "with np.load('II_v2.npz') as file:      \n",
    "    matrice = file['arr_0']\n",
    "    \n",
    "et = time.time()\n",
    "\n",
    "print('Load time:', str(datetime.timedelta(seconds = et - st))[:10] , 'seconds')\n",
    "print('\\n matrice.shape :', matrice.shape)\n",
    "\n",
    "# matrice = module.retrive_matrix( Inverted_Idx_v2, N, n_tokens )\n",
    "# np.savez_compressed(\"II_v2.npz\", matrice)"
   ]
  },
  {
   "cell_type": "code",
   "execution_count": 26,
   "id": "9a13f78b",
   "metadata": {
    "scrolled": false
   },
   "outputs": [
    {
     "name": "stdout",
     "output_type": "stream",
     "text": [
      "True True\n",
      "\n",
      " matrice[1356][342] : 0.006913115322,\n",
      " matrice[1356][1044] : 0.046941226072\n"
     ]
    }
   ],
   "source": [
    "print(matrice[5964][118] == 0.006913115322470143, matrice[5964][1515] == 0.046941226072017506)\n",
    "\n",
    "print(\"\\n matrice[1356][342] : {},\\n matrice[1356][1044] : {}\".format(round(matrice[5964][118],12),\n",
    "                                                                      round(matrice[5964][1515],12)))\n",
    "# 0.0156132541856525 # 0.1064835541807316"
   ]
  },
  {
   "cell_type": "markdown",
   "id": "98dec21a",
   "metadata": {},
   "source": [
    "------------------------------------\n",
    "-------------------------------------------\n",
    "Query **pre-processing** :"
   ]
  },
  {
   "cell_type": "code",
   "execution_count": 27,
   "id": "1d8c5111",
   "metadata": {
    "scrolled": false
   },
   "outputs": [],
   "source": [
    "stringa = 'american museum'"
   ]
  },
  {
   "cell_type": "code",
   "execution_count": 28,
   "id": "4115d848",
   "metadata": {
    "scrolled": false
   },
   "outputs": [
    {
     "name": "stdout",
     "output_type": "stream",
     "text": [
      "\n",
      "query: ['american', 'museum']\n",
      "\n",
      "query : tf_idf vector : [0. 0. 0. ... 0. 0. 0.] \n",
      "\n",
      "  idx: (118) → tf_idf : 0.3474\n",
      "  idx: (1515) → tf_idf : 0.4718\n"
     ]
    }
   ],
   "source": [
    "query = module.preprocess(stringa)\n",
    "query = [x for x in query if x in word_dict.keys()]\n",
    "\n",
    "print(\"\\nquery: {}\\n\".format(query))\n",
    "\n",
    "q_vector, _ = module.query_vectorizer(query, n_tokens, word_dict, IDFs)\n",
    "\n",
    "print(\"query : tf_idf vector :\", q_vector, '\\n')\n",
    "print(*[\"  idx: (\"+str(p[0])+\") → tf_idf : \"+str(p[1]) for p in _],sep=\"\\n\")"
   ]
  },
  {
   "cell_type": "markdown",
   "id": "2678a788",
   "metadata": {},
   "source": [
    "These positions correspond to the two words that are present in the query vector, while the remaining values in the vector are all zeros.\\\n",
    "This means that the query vector is a sparse vector.\\\n",
    "The positions of the non-zero values indicate the locations of the corresponding words ('american' and 'museum') in the query vector.\n",
    "\n",
    "Now collecting `IDs` of documents that contain searched words in order to compute a **similarity score** only for these:"
   ]
  },
  {
   "cell_type": "code",
   "execution_count": 29,
   "id": "300d85d9",
   "metadata": {
    "scrolled": false
   },
   "outputs": [
    {
     "name": "stdout",
     "output_type": "stream",
     "text": [
      " match : 2040 documents → have query's words\n"
     ]
    }
   ],
   "source": [
    "result = module.Search_Engine(query, Inverted_Idx_v2, word_dict)\n",
    "print(\" match : {} documents → have query's words\".format(len(result)))"
   ]
  },
  {
   "cell_type": "markdown",
   "id": "b7e4b65d",
   "metadata": {},
   "source": [
    "### Ranking score :\n",
    "\n",
    "**Cosine Similarity** is a metric used to evaluate the similarity between two documents.\\\n",
    "The function `similarity(A, B)` calculates the cosine similarity between two vectors A and B, where A and B are vector representations of the documents.\\\n",
    "It's value ranges between -1 and 1, where 1 indicates perfect similarity and -1 indicates total dissimilarity.\n",
    "\n",
    "\n",
    "In general, to calculate the cosine similarity between two vectors, the dot product of the two vectors is divided by the product of their norms :\n",
    "\n",
    "$$ \\mathbf{similarity}\\;\\text{(A,B)}\\;  = \\;\\frac{\\mathbf{A} \\cdot \\mathbf{B}}{|\\mathbf{A}| \\times |\\mathbf{B}|} $$\n",
    "\n",
    "&thinsp;&ensp;&thinsp;&ensp;&thinsp; where $\\mathbf{A}$ and $\\mathbf{B}$ are vectors representing two documents.\n",
    "\n",
    "<br>"
   ]
  },
  {
   "cell_type": "code",
   "execution_count": 30,
   "id": "0a62b04d",
   "metadata": {
    "scrolled": false
   },
   "outputs": [],
   "source": [
    "from numpy.linalg import norm"
   ]
  },
  {
   "cell_type": "code",
   "execution_count": 31,
   "id": "7617c758",
   "metadata": {
    "scrolled": false
   },
   "outputs": [],
   "source": [
    "def similarity(A,B):\n",
    "    \n",
    "    cosine = np.dot(A,B) / (norm(A) * norm(B))\n",
    "    \n",
    "    return cosine"
   ]
  },
  {
   "cell_type": "code",
   "execution_count": 32,
   "id": "e7c73b00",
   "metadata": {
    "scrolled": false
   },
   "outputs": [
    {
     "name": "stderr",
     "output_type": "stream",
     "text": [
      "100%|████████████████████████████████████████████████████████████████████████████| 2040/2040 [00:00<00:00, 3157.04it/s]\n"
     ]
    },
    {
     "data": {
      "text/html": [
       "<div>\n",
       "<style scoped>\n",
       "    .dataframe tbody tr th:only-of-type {\n",
       "        vertical-align: middle;\n",
       "    }\n",
       "\n",
       "    .dataframe tbody tr th {\n",
       "        vertical-align: top;\n",
       "    }\n",
       "\n",
       "    .dataframe thead th {\n",
       "        text-align: right;\n",
       "    }\n",
       "</style>\n",
       "<table border=\"1\" class=\"dataframe\">\n",
       "  <thead>\n",
       "    <tr style=\"text-align: right;\">\n",
       "      <th></th>\n",
       "      <th>placeIndex</th>\n",
       "      <th>placeName</th>\n",
       "      <th>placeLocation</th>\n",
       "      <th>placeUrl</th>\n",
       "      <th>placeDesc</th>\n",
       "      <th>Score</th>\n",
       "    </tr>\n",
       "  </thead>\n",
       "  <tbody>\n",
       "    <tr>\n",
       "      <th>0</th>\n",
       "      <td>5964</td>\n",
       "      <td>Sweet Home Cafe</td>\n",
       "      <td>Washington, D.C.</td>\n",
       "      <td>https://www.atlasobscura.com/places/sweet-home...</td>\n",
       "      <td>Thomas Downing was the oyster king. In 19th-ce...</td>\n",
       "      <td>0.245316</td>\n",
       "    </tr>\n",
       "    <tr>\n",
       "      <th>1</th>\n",
       "      <td>133</td>\n",
       "      <td>Museum of the Weird</td>\n",
       "      <td>Austin, Texas</td>\n",
       "      <td>https://www.atlasobscura.com/places/museum-weird</td>\n",
       "      <td>The dime or dime store museum is by all accoun...</td>\n",
       "      <td>0.218546</td>\n",
       "    </tr>\n",
       "    <tr>\n",
       "      <th>2</th>\n",
       "      <td>6056</td>\n",
       "      <td>Self-Taught Genius Gallery</td>\n",
       "      <td>Queens, New York</td>\n",
       "      <td>https://www.atlasobscura.com/places/self-taugh...</td>\n",
       "      <td>In 2017, the American Folk Art Museum in Manha...</td>\n",
       "      <td>0.209988</td>\n",
       "    </tr>\n",
       "    <tr>\n",
       "      <th>3</th>\n",
       "      <td>1217</td>\n",
       "      <td>Harvard Museum of Natural History</td>\n",
       "      <td>Cambridge, Massachusetts</td>\n",
       "      <td>https://www.atlasobscura.com/places/harvard-mu...</td>\n",
       "      <td>Collecting three different institutions into o...</td>\n",
       "      <td>0.201620</td>\n",
       "    </tr>\n",
       "    <tr>\n",
       "      <th>4</th>\n",
       "      <td>2691</td>\n",
       "      <td>Milwaukee Art Museum</td>\n",
       "      <td>Milwaukee, Wisconsin</td>\n",
       "      <td>https://www.atlasobscura.com/places/milwaukee-...</td>\n",
       "      <td>Like the Guggenheim in New York and the Oaklan...</td>\n",
       "      <td>0.190440</td>\n",
       "    </tr>\n",
       "    <tr>\n",
       "      <th>5</th>\n",
       "      <td>6514</td>\n",
       "      <td>Valle Planes of Fame Air Museum</td>\n",
       "      <td>Valle, Arizona</td>\n",
       "      <td>https://www.atlasobscura.com/places/valle-plan...</td>\n",
       "      <td>Old aircraft sit outside this small museum, fo...</td>\n",
       "      <td>0.183028</td>\n",
       "    </tr>\n",
       "    <tr>\n",
       "      <th>6</th>\n",
       "      <td>7048</td>\n",
       "      <td>Museum of Museums</td>\n",
       "      <td>Seattle, Washington</td>\n",
       "      <td>https://www.atlasobscura.com/places/museum-of-...</td>\n",
       "      <td>The Museum of Museums (MoM) is a contemporary ...</td>\n",
       "      <td>0.177962</td>\n",
       "    </tr>\n",
       "    <tr>\n",
       "      <th>7</th>\n",
       "      <td>6232</td>\n",
       "      <td>Siriraj Medical Museum</td>\n",
       "      <td>Bangkok, Thailand</td>\n",
       "      <td>https://www.atlasobscura.com/places/siriraj-me...</td>\n",
       "      <td>The Siriraj Medical Museum abounds with medica...</td>\n",
       "      <td>0.175770</td>\n",
       "    </tr>\n",
       "    <tr>\n",
       "      <th>8</th>\n",
       "      <td>2864</td>\n",
       "      <td>Museum of Mourning Art</td>\n",
       "      <td>Upper Darby, Pennsylvania</td>\n",
       "      <td>https://www.atlasobscura.com/places/museum-of-...</td>\n",
       "      <td>Mourning and personal response to death are un...</td>\n",
       "      <td>0.170723</td>\n",
       "    </tr>\n",
       "    <tr>\n",
       "      <th>9</th>\n",
       "      <td>2205</td>\n",
       "      <td>Roanoke Pinball Museum</td>\n",
       "      <td>Roanoke, Virginia</td>\n",
       "      <td>https://www.atlasobscura.com/places/roanoke-pi...</td>\n",
       "      <td>In downtown Roanoke inside the “Center in the ...</td>\n",
       "      <td>0.170547</td>\n",
       "    </tr>\n",
       "  </tbody>\n",
       "</table>\n",
       "</div>"
      ],
      "text/plain": [
       "   placeIndex                          placeName              placeLocation  \\\n",
       "0        5964                    Sweet Home Cafe           Washington, D.C.   \n",
       "1         133                Museum of the Weird              Austin, Texas   \n",
       "2        6056         Self-Taught Genius Gallery           Queens, New York   \n",
       "3        1217  Harvard Museum of Natural History   Cambridge, Massachusetts   \n",
       "4        2691               Milwaukee Art Museum       Milwaukee, Wisconsin   \n",
       "5        6514    Valle Planes of Fame Air Museum             Valle, Arizona   \n",
       "6        7048                  Museum of Museums        Seattle, Washington   \n",
       "7        6232             Siriraj Medical Museum          Bangkok, Thailand   \n",
       "8        2864             Museum of Mourning Art  Upper Darby, Pennsylvania   \n",
       "9        2205             Roanoke Pinball Museum          Roanoke, Virginia   \n",
       "\n",
       "                                            placeUrl  \\\n",
       "0  https://www.atlasobscura.com/places/sweet-home...   \n",
       "1   https://www.atlasobscura.com/places/museum-weird   \n",
       "2  https://www.atlasobscura.com/places/self-taugh...   \n",
       "3  https://www.atlasobscura.com/places/harvard-mu...   \n",
       "4  https://www.atlasobscura.com/places/milwaukee-...   \n",
       "5  https://www.atlasobscura.com/places/valle-plan...   \n",
       "6  https://www.atlasobscura.com/places/museum-of-...   \n",
       "7  https://www.atlasobscura.com/places/siriraj-me...   \n",
       "8  https://www.atlasobscura.com/places/museum-of-...   \n",
       "9  https://www.atlasobscura.com/places/roanoke-pi...   \n",
       "\n",
       "                                           placeDesc     Score  \n",
       "0  Thomas Downing was the oyster king. In 19th-ce...  0.245316  \n",
       "1  The dime or dime store museum is by all accoun...  0.218546  \n",
       "2  In 2017, the American Folk Art Museum in Manha...  0.209988  \n",
       "3  Collecting three different institutions into o...  0.201620  \n",
       "4  Like the Guggenheim in New York and the Oaklan...  0.190440  \n",
       "5  Old aircraft sit outside this small museum, fo...  0.183028  \n",
       "6  The Museum of Museums (MoM) is a contemporary ...  0.177962  \n",
       "7  The Siriraj Medical Museum abounds with medica...  0.175770  \n",
       "8  Mourning and personal response to death are un...  0.170723  \n",
       "9  In downtown Roanoke inside the “Center in the ...  0.170547  "
      ]
     },
     "execution_count": 32,
     "metadata": {},
     "output_type": "execute_result"
    }
   ],
   "source": [
    "ranking = {}\n",
    "\n",
    "for key in tqdm(result):\n",
    "\n",
    "    score = similarity(matrice[key], q_vector)\n",
    "    ranking[key]= score\n",
    "    \n",
    "r = sorted(ranking.items(), key=lambda x:x[1], reverse=True)\n",
    "module.show(data, r)"
   ]
  },
  {
   "cell_type": "markdown",
   "id": "1fd7c5be",
   "metadata": {},
   "source": [
    "-------------------------------------------------------------------"
   ]
  },
  {
   "cell_type": "markdown",
   "id": "e97e856e",
   "metadata": {},
   "source": [
    "Another attempt:\n",
    "\n",
    "**Query** → the [**Eiffel Tower**](https://en.wikipedia.org/wiki/Eiffel_Tower) in paris from Wikipedia:"
   ]
  },
  {
   "cell_type": "code",
   "execution_count": 33,
   "id": "8961fe7a",
   "metadata": {
    "scrolled": false
   },
   "outputs": [],
   "source": [
    "text = open('query.txt', 'r',  encoding=\"utf8\")\n",
    "l_stringa = text.read()\n",
    "text.close()"
   ]
  },
  {
   "cell_type": "code",
   "execution_count": 34,
   "id": "5996bd96",
   "metadata": {
    "scrolled": false
   },
   "outputs": [
    {
     "name": "stdout",
     "output_type": "stream",
     "text": [
      "\n",
      "Query words : 437 | ... lost 31 words\n",
      "\n",
      " query : tf_idf vector = [0.00931193 0.00505837 0.00788726 ... 0.         0.         0.        ] \n",
      "\n",
      "match : 7197 documents → have query's words\n"
     ]
    }
   ],
   "source": [
    "query_tokens = module.preprocess(l_stringa)\n",
    "query_2 = [x for x in query_tokens if x in word_dict.keys()]\n",
    "\n",
    "print(\"\\nQuery words : {} | ... lost {} words\\n\".format(len(query_2), len(query_tokens)-len(query_2)))\n",
    "\n",
    "q_2, _ = module.query_vectorizer(query_2, n_tokens, word_dict, IDFs)\n",
    "print(\" query : tf_idf vector =\", q_2, '\\n')\n",
    "\n",
    "result_2 = module.Search_Engine(query_2, Inverted_Idx_v2, word_dict)\n",
    "print(\"match : {} documents → have query's words\".format(len(result_2)))"
   ]
  },
  {
   "cell_type": "code",
   "execution_count": 35,
   "id": "5f05a7f7",
   "metadata": {
    "scrolled": false
   },
   "outputs": [
    {
     "name": "stderr",
     "output_type": "stream",
     "text": [
      "100%|████████████████████████████████████████████████████████████████████████████| 7197/7197 [00:05<00:00, 1263.59it/s]\n"
     ]
    },
    {
     "data": {
      "text/html": [
       "<div>\n",
       "<style scoped>\n",
       "    .dataframe tbody tr th:only-of-type {\n",
       "        vertical-align: middle;\n",
       "    }\n",
       "\n",
       "    .dataframe tbody tr th {\n",
       "        vertical-align: top;\n",
       "    }\n",
       "\n",
       "    .dataframe thead th {\n",
       "        text-align: right;\n",
       "    }\n",
       "</style>\n",
       "<table border=\"1\" class=\"dataframe\">\n",
       "  <thead>\n",
       "    <tr style=\"text-align: right;\">\n",
       "      <th></th>\n",
       "      <th>placeIndex</th>\n",
       "      <th>placeName</th>\n",
       "      <th>placeLocation</th>\n",
       "      <th>placeUrl</th>\n",
       "      <th>placeDesc</th>\n",
       "      <th>Score</th>\n",
       "    </tr>\n",
       "  </thead>\n",
       "  <tbody>\n",
       "    <tr>\n",
       "      <th>0</th>\n",
       "      <td>417</td>\n",
       "      <td>Gustave Eiffel's Secret Apartment</td>\n",
       "      <td>Paris, France</td>\n",
       "      <td>https://www.atlasobscura.com/places/gustave-ei...</td>\n",
       "      <td>When the Eiffel Tower opened in 1889 to much w...</td>\n",
       "      <td>0.470480</td>\n",
       "    </tr>\n",
       "    <tr>\n",
       "      <th>1</th>\n",
       "      <td>2906</td>\n",
       "      <td>Texas Eiffel Tower</td>\n",
       "      <td>Paris, Texas</td>\n",
       "      <td>https://www.atlasobscura.com/places/texas-eiff...</td>\n",
       "      <td>Cities named Paris outside of France all seem ...</td>\n",
       "      <td>0.380197</td>\n",
       "    </tr>\n",
       "    <tr>\n",
       "      <th>2</th>\n",
       "      <td>2378</td>\n",
       "      <td>The Eiffel Tower of New Orleans</td>\n",
       "      <td>New Orleans, Louisiana</td>\n",
       "      <td>https://www.atlasobscura.com/places/the-eiffel...</td>\n",
       "      <td>Up until 1981, the Restaurant de La Tour Eiffe...</td>\n",
       "      <td>0.278325</td>\n",
       "    </tr>\n",
       "    <tr>\n",
       "      <th>3</th>\n",
       "      <td>3540</td>\n",
       "      <td>Temple de la Sybille (The Temple of Sybille)</td>\n",
       "      <td>Paris, France</td>\n",
       "      <td>https://www.atlasobscura.com/places/la-temple-...</td>\n",
       "      <td>The Temple de la Sybille is a Roman-style monu...</td>\n",
       "      <td>0.204231</td>\n",
       "    </tr>\n",
       "    <tr>\n",
       "      <th>4</th>\n",
       "      <td>2298</td>\n",
       "      <td>The Atomium</td>\n",
       "      <td>Brussels, Belgium</td>\n",
       "      <td>https://www.atlasobscura.com/places/the-atomiu...</td>\n",
       "      <td>In 1958 the Atomium was built for the Brussels...</td>\n",
       "      <td>0.164878</td>\n",
       "    </tr>\n",
       "    <tr>\n",
       "      <th>5</th>\n",
       "      <td>4416</td>\n",
       "      <td>Tower of the Sun</td>\n",
       "      <td>Suita-shi, Japan</td>\n",
       "      <td>https://www.atlasobscura.com/places/tower-of-t...</td>\n",
       "      <td>During Japan’s Expo ‘70 the otherworldly Tower...</td>\n",
       "      <td>0.162623</td>\n",
       "    </tr>\n",
       "    <tr>\n",
       "      <th>6</th>\n",
       "      <td>3640</td>\n",
       "      <td>CN Tower Stairs</td>\n",
       "      <td>Toronto, Ontario</td>\n",
       "      <td>https://www.atlasobscura.com/places/cn-tower</td>\n",
       "      <td>While Toronto’s CN Tower no longer holds the w...</td>\n",
       "      <td>0.159367</td>\n",
       "    </tr>\n",
       "    <tr>\n",
       "      <th>7</th>\n",
       "      <td>4987</td>\n",
       "      <td>Rundetårn</td>\n",
       "      <td>Copenhagen, Denmark</td>\n",
       "      <td>https://www.atlasobscura.com/places/rundetarn</td>\n",
       "      <td>Visiting famous landmarks in historical center...</td>\n",
       "      <td>0.158860</td>\n",
       "    </tr>\n",
       "    <tr>\n",
       "      <th>8</th>\n",
       "      <td>2852</td>\n",
       "      <td>Berlin Radio Tower</td>\n",
       "      <td>Berlin, Germany</td>\n",
       "      <td>https://www.atlasobscura.com/places/berlin-rad...</td>\n",
       "      <td>The Berlin Radio Tower or “Berliner Funkturm” ...</td>\n",
       "      <td>0.154836</td>\n",
       "    </tr>\n",
       "    <tr>\n",
       "      <th>9</th>\n",
       "      <td>2909</td>\n",
       "      <td>Jubiläumswarte</td>\n",
       "      <td>Vienna, Austria</td>\n",
       "      <td>https://www.atlasobscura.com/places/observatio...</td>\n",
       "      <td>The Jubiläumswarte (translated to the Jubilee ...</td>\n",
       "      <td>0.149423</td>\n",
       "    </tr>\n",
       "  </tbody>\n",
       "</table>\n",
       "</div>"
      ],
      "text/plain": [
       "   placeIndex                                     placeName  \\\n",
       "0         417            Gustave Eiffel's Secret Apartment    \n",
       "1        2906                            Texas Eiffel Tower   \n",
       "2        2378               The Eiffel Tower of New Orleans   \n",
       "3        3540  Temple de la Sybille (The Temple of Sybille)   \n",
       "4        2298                                   The Atomium   \n",
       "5        4416                              Tower of the Sun   \n",
       "6        3640                               CN Tower Stairs   \n",
       "7        4987                                     Rundetårn   \n",
       "8        2852                            Berlin Radio Tower   \n",
       "9        2909                                Jubiläumswarte   \n",
       "\n",
       "            placeLocation                                           placeUrl  \\\n",
       "0           Paris, France  https://www.atlasobscura.com/places/gustave-ei...   \n",
       "1            Paris, Texas  https://www.atlasobscura.com/places/texas-eiff...   \n",
       "2  New Orleans, Louisiana  https://www.atlasobscura.com/places/the-eiffel...   \n",
       "3           Paris, France  https://www.atlasobscura.com/places/la-temple-...   \n",
       "4       Brussels, Belgium  https://www.atlasobscura.com/places/the-atomiu...   \n",
       "5        Suita-shi, Japan  https://www.atlasobscura.com/places/tower-of-t...   \n",
       "6        Toronto, Ontario       https://www.atlasobscura.com/places/cn-tower   \n",
       "7     Copenhagen, Denmark      https://www.atlasobscura.com/places/rundetarn   \n",
       "8         Berlin, Germany  https://www.atlasobscura.com/places/berlin-rad...   \n",
       "9         Vienna, Austria  https://www.atlasobscura.com/places/observatio...   \n",
       "\n",
       "                                           placeDesc     Score  \n",
       "0  When the Eiffel Tower opened in 1889 to much w...  0.470480  \n",
       "1  Cities named Paris outside of France all seem ...  0.380197  \n",
       "2  Up until 1981, the Restaurant de La Tour Eiffe...  0.278325  \n",
       "3  The Temple de la Sybille is a Roman-style monu...  0.204231  \n",
       "4  In 1958 the Atomium was built for the Brussels...  0.164878  \n",
       "5  During Japan’s Expo ‘70 the otherworldly Tower...  0.162623  \n",
       "6  While Toronto’s CN Tower no longer holds the w...  0.159367  \n",
       "7  Visiting famous landmarks in historical center...  0.158860  \n",
       "8  The Berlin Radio Tower or “Berliner Funkturm” ...  0.154836  \n",
       "9  The Jubiläumswarte (translated to the Jubilee ...  0.149423  "
      ]
     },
     "metadata": {},
     "output_type": "display_data"
    }
   ],
   "source": [
    "ranking = {}\n",
    "\n",
    "for key in tqdm(result_2):\n",
    "\n",
    "    score = similarity(matrice[key], q_2)\n",
    "    ranking[key]= score\n",
    "    \n",
    "r = sorted(ranking.items(), key=lambda x:x[1], reverse=True)\n",
    "output = module.show(data, r)\n",
    "display(output)"
   ]
  },
  {
   "cell_type": "markdown",
   "id": "8cdb0d7f",
   "metadata": {},
   "source": [
    "-------------------------------------------\n",
    "--------------------------------------------"
   ]
  },
  {
   "cell_type": "markdown",
   "id": "db785c2a",
   "metadata": {},
   "source": [
    "### Define a new Score!"
   ]
  },
  {
   "cell_type": "code",
   "execution_count": 36,
   "id": "39493a4b",
   "metadata": {},
   "outputs": [],
   "source": [
    "from geopy.distance import geodesic as GD"
   ]
  },
  {
   "cell_type": "code",
   "execution_count": 94,
   "id": "220d2183",
   "metadata": {},
   "outputs": [],
   "source": [
    "# function that compute the new score for the 'similarity', the distance our case :\n",
    "\n",
    "def New_Score2(lat, long, boolean_df, place_df):\n",
    "    \n",
    "    out_df = boolean_df.copy()\n",
    "    index_list = boolean_df.index\n",
    "    \n",
    "    out_df[\"placeAddress\"] = place_df.loc[place_df.index[index_list]][\"placeAddress\"]\n",
    "    out_df[\"numPeopleVisited\"] = place_df.loc[place_df.index[index_list]][\"numPeopleVisited\"]\n",
    "    \n",
    "    \n",
    "    out_df[\"placeAlt\"] = place_df.loc[place_df.index[index_list]][\"placeAlt\"]\n",
    "    out_df[\"placeLong\"] = place_df.loc[place_df.index[index_list]][\"placeLong\"]\n",
    "    \n",
    "\n",
    "    out_df['placeDistance'] = [(GD((lat,long), (lat_i, long_i)).km) for lat_i, long_i in zip(out_df[\"placeAlt\"],\n",
    "                                                                                            out_df[\"placeLong\"])]\n",
    "    out_df = out_df.sort_values(by=['placeDistance'], ascending=True)\n",
    "    out_df['placeDistance'] = out_df['placeDistance'].round(4).astype(str) + \" km\"\n",
    "    print('\\nout_df.shape :', fullSearch.shape, '\\n')\n",
    "    \n",
    "    return out_df.head(10)"
   ]
  },
  {
   "cell_type": "code",
   "execution_count": 109,
   "id": "7cefb408",
   "metadata": {
    "scrolled": false
   },
   "outputs": [
    {
     "name": "stdout",
     "output_type": "stream",
     "text": [
      " Query : american museum\n",
      "\n",
      "out_df.shape : (10, 9) \n",
      "\n"
     ]
    },
    {
     "data": {
      "text/html": [
       "<div>\n",
       "<style scoped>\n",
       "    .dataframe tbody tr th:only-of-type {\n",
       "        vertical-align: middle;\n",
       "    }\n",
       "\n",
       "    .dataframe tbody tr th {\n",
       "        vertical-align: top;\n",
       "    }\n",
       "\n",
       "    .dataframe thead th {\n",
       "        text-align: right;\n",
       "    }\n",
       "</style>\n",
       "<table border=\"1\" class=\"dataframe\">\n",
       "  <thead>\n",
       "    <tr style=\"text-align: right;\">\n",
       "      <th></th>\n",
       "      <th>placeName</th>\n",
       "      <th>placeLocation</th>\n",
       "      <th>placeDesc</th>\n",
       "      <th>placeUrl</th>\n",
       "      <th>placeAddress</th>\n",
       "      <th>numPeopleVisited</th>\n",
       "      <th>placeAlt</th>\n",
       "      <th>placeLong</th>\n",
       "      <th>placeDistance</th>\n",
       "    </tr>\n",
       "  </thead>\n",
       "  <tbody>\n",
       "    <tr>\n",
       "      <th>4982</th>\n",
       "      <td>The American Kennel Club Museum of the Dog</td>\n",
       "      <td>Manhattan, New York</td>\n",
       "      <td>At the intersection of the Venn diagram where ...</td>\n",
       "      <td>https://www.atlasobscura.com/places/the-americ...</td>\n",
       "      <td>101 Park Ave ViaductNew York, New York, 10016U...</td>\n",
       "      <td>163.0</td>\n",
       "      <td>40.7507</td>\n",
       "      <td>-73.9779</td>\n",
       "      <td>0.1011 km</td>\n",
       "    </tr>\n",
       "    <tr>\n",
       "      <th>2667</th>\n",
       "      <td>Theodore Roosevelt Birthplace Museum</td>\n",
       "      <td>Manhattan, New York</td>\n",
       "      <td>Behind an otherwise innocuous (if immaculately...</td>\n",
       "      <td>https://www.atlasobscura.com/places/theodore-r...</td>\n",
       "      <td>28 East 20th StreetNew York, New York, 10003Un...</td>\n",
       "      <td>384.0</td>\n",
       "      <td>40.7388</td>\n",
       "      <td>-73.9889</td>\n",
       "      <td>1.7098 km</td>\n",
       "    </tr>\n",
       "    <tr>\n",
       "      <th>1078</th>\n",
       "      <td>Albertine</td>\n",
       "      <td>Manhattan, New York</td>\n",
       "      <td>A hand-painted ceiling of celestial scenes cap...</td>\n",
       "      <td>https://www.atlasobscura.com/places/albertine</td>\n",
       "      <td>972 5th AveNew York, New York, 10075United States</td>\n",
       "      <td>354.0</td>\n",
       "      <td>40.7766</td>\n",
       "      <td>-73.9637</td>\n",
       "      <td>3.0329 km</td>\n",
       "    </tr>\n",
       "  </tbody>\n",
       "</table>\n",
       "</div>"
      ],
      "text/plain": [
       "                                       placeName        placeLocation  \\\n",
       "4982  The American Kennel Club Museum of the Dog  Manhattan, New York   \n",
       "2667        Theodore Roosevelt Birthplace Museum  Manhattan, New York   \n",
       "1078                                   Albertine  Manhattan, New York   \n",
       "\n",
       "                                              placeDesc  \\\n",
       "4982  At the intersection of the Venn diagram where ...   \n",
       "2667  Behind an otherwise innocuous (if immaculately...   \n",
       "1078  A hand-painted ceiling of celestial scenes cap...   \n",
       "\n",
       "                                               placeUrl  \\\n",
       "4982  https://www.atlasobscura.com/places/the-americ...   \n",
       "2667  https://www.atlasobscura.com/places/theodore-r...   \n",
       "1078      https://www.atlasobscura.com/places/albertine   \n",
       "\n",
       "                                           placeAddress  numPeopleVisited  \\\n",
       "4982  101 Park Ave ViaductNew York, New York, 10016U...             163.0   \n",
       "2667  28 East 20th StreetNew York, New York, 10003Un...             384.0   \n",
       "1078  972 5th AveNew York, New York, 10075United States             354.0   \n",
       "\n",
       "      placeAlt  placeLong placeDistance  \n",
       "4982   40.7507   -73.9779     0.1011 km  \n",
       "2667   40.7388   -73.9889     1.7098 km  \n",
       "1078   40.7766   -73.9637     3.0329 km  "
      ]
     },
     "metadata": {},
     "output_type": "display_data"
    }
   ],
   "source": [
    "query = \"american museum\"\n",
    "\n",
    "lat = 40.7512\n",
    "long =  -73.9769\n",
    "\n",
    "print(\" Query :\", query)\n",
    "fullSearch = New_Score2(lat, long, AND_q, data)\n",
    "display(fullSearch.head(3))"
   ]
  },
  {
   "cell_type": "code",
   "execution_count": 110,
   "id": "ac80604f",
   "metadata": {},
   "outputs": [],
   "source": [
    "from IPython.display import IFrame"
   ]
  },
  {
   "cell_type": "code",
   "execution_count": 111,
   "id": "3c6b4243",
   "metadata": {},
   "outputs": [],
   "source": [
    "directory = 'imgs_folder'\n",
    "if not os.path.exists(directory):\n",
    "    os.makedirs(directory)"
   ]
  },
  {
   "cell_type": "code",
   "execution_count": 114,
   "id": "fd32fcca",
   "metadata": {
    "scrolled": false
   },
   "outputs": [
    {
     "data": {
      "text/html": [
       "\n",
       "        <iframe\n",
       "            width=\"700\"\n",
       "            height=\"500\"\n",
       "            src=\"imgs_folder/new_york.png\"\n",
       "            frameborder=\"0\"\n",
       "            allowfullscreen\n",
       "            \n",
       "        ></iframe>\n",
       "        "
      ],
      "text/plain": [
       "<IPython.lib.display.IFrame at 0x1aafa68e490>"
      ]
     },
     "execution_count": 114,
     "metadata": {},
     "output_type": "execute_result"
    }
   ],
   "source": [
    "fig = px.scatter_mapbox(fullSearch, lat=\"placeAlt\", lon=\"placeLong\", hover_name=\"placeName\", \n",
    "                        hover_data=[\"placeDistance\",\"numPeopleVisited\",\"placeAddress\"], \n",
    "                        center=dict({'lat':lat, 'lon':long}), size = \"numPeopleVisited\", size_max=10.5,\n",
    "                         zoom=10, height=450, width=650 )\n",
    "\n",
    "fig.update_traces(marker={ \"color\":\"#FF69B4\", \"opacity\": 0.88, \"size\":10, })\n",
    "\n",
    "fig.update_layout(mapbox_style=\"stamen-terrain\", title = \"closer NewYork's places :\")\n",
    "fig.update_layout(margin={\"r\":80,\"t\":80,\"l\":0,\"b\":0})\n",
    "\n",
    "fig.write_image(directory+\"/new_york.png\")\n",
    "IFrame(directory+\"/new_york.png\", width=700, height=500)"
   ]
  },
  {
   "cell_type": "markdown",
   "id": "76de597e",
   "metadata": {},
   "source": [
    "-----------------------------------------\n",
    "------------------------------------------------"
   ]
  },
  {
   "cell_type": "code",
   "execution_count": 115,
   "id": "2e31fd43",
   "metadata": {
    "scrolled": false
   },
   "outputs": [
    {
     "data": {
      "text/html": [
       "\n",
       "        <iframe\n",
       "            width=\"850\"\n",
       "            height=\"520\"\n",
       "            src=\"imgs_folder/all_word.png\"\n",
       "            frameborder=\"0\"\n",
       "            allowfullscreen\n",
       "            \n",
       "        ></iframe>\n",
       "        "
      ],
      "text/plain": [
       "<IPython.lib.display.IFrame at 0x1aa8f9dfaf0>"
      ]
     },
     "execution_count": 115,
     "metadata": {},
     "output_type": "execute_result"
    }
   ],
   "source": [
    "map_fig = px.scatter_geo( data, lat= data[\"placeAlt\"], lon=data[\"placeLong\"], projection =\"natural earth\",\n",
    "                        hover_name = data[\"placeName\"], hover_data=[\"placeLocation\", \"placeAddress\"])\n",
    "\n",
    "map_fig.update_traces(marker={'size': 1.8, \"color\":\"red\", \"opacity\":0.75})\n",
    "map_fig.update_layout( title = 'All places in the word :')\n",
    "\n",
    "map_fig.write_image(directory+\"/all_word.png\")\n",
    "IFrame(directory+\"/all_word.png\", width=850, height=520)"
   ]
  },
  {
   "cell_type": "code",
   "execution_count": 116,
   "id": "602c65ef",
   "metadata": {
    "scrolled": false
   },
   "outputs": [
    {
     "data": {
      "text/html": [
       "\n",
       "        <iframe\n",
       "            width=\"850\"\n",
       "            height=\"500\"\n",
       "            src=\"imgs_folder/usa_places.png\"\n",
       "            frameborder=\"0\"\n",
       "            allowfullscreen\n",
       "            \n",
       "        ></iframe>\n",
       "        "
      ],
      "text/plain": [
       "<IPython.lib.display.IFrame at 0x1aafa68e6a0>"
      ]
     },
     "execution_count": 116,
     "metadata": {},
     "output_type": "execute_result"
    }
   ],
   "source": [
    "fig_usa = px.scatter_geo( data, lat= data[\"placeAlt\"], lon=data[\"placeLong\"], projection =\"albers usa\",\n",
    "                        hover_name = data[\"placeName\"], hover_data=[\"placeLocation\", \"placeAddress\"],\n",
    "                    color = data[\"numPeopleVisited\"],\n",
    "                    color_continuous_scale=px.colors.sequential.Agsunset)\n",
    "\n",
    "fig_usa.update_traces(marker={'size': 4, \"opacity\" : 0.55 })\n",
    "fig_usa.update_layout( title = 'U.S.A places')\n",
    "\n",
    "fig_usa.update_layout( geo = dict(landcolor = \"rgb(249, 250, 251)\", subunitcolor = \"rgb(216, 217, 218)\",\n",
    "                    countrycolor = \"rgb(217, 217, 217)\", countrywidth = 1, subunitwidth = 2))\n",
    "\n",
    "fig_usa.write_image(directory+\"/usa_places.png\")\n",
    "IFrame(directory+\"/usa_places.png\", width=850, height=500)"
   ]
  },
  {
   "cell_type": "code",
   "execution_count": 117,
   "id": "bb04aba0",
   "metadata": {
    "scrolled": false
   },
   "outputs": [
    {
     "data": {
      "text/html": [
       "\n",
       "        <iframe\n",
       "            width=\"750\"\n",
       "            height=\"600\"\n",
       "            src=\"imgs_folder/ita_places.png\"\n",
       "            frameborder=\"0\"\n",
       "            allowfullscreen\n",
       "            \n",
       "        ></iframe>\n",
       "        "
      ],
      "text/plain": [
       "<IPython.lib.display.IFrame at 0x1aa8fe49460>"
      ]
     },
     "execution_count": 117,
     "metadata": {},
     "output_type": "execute_result"
    }
   ],
   "source": [
    "(lat,long) = 41.9028, 12.4964\n",
    "\n",
    "fig = px.scatter_mapbox(data, lat=\"placeAlt\", lon=\"placeLong\", hover_name=\"placeName\", \n",
    "                        hover_data=[\"numPeopleVisited\",\"placeAddress\"], \n",
    "                        center=dict({'lat':lat, 'lon':long}), size = \"numPeopleVisited\", size_max=10.5,\n",
    "                         zoom=4.73, height=550, width=650 )\n",
    "\n",
    "fig.update_traces(marker={ \"color\":\"purple\", \"opacity\": 0.88, \"size\":7 })\n",
    "\n",
    "fig.update_layout(mapbox_style=\"open-street-map\", title = \"closer NewYork places :\")\n",
    "fig.update_layout(margin={\"r\":0,\"t\":0,\"l\":0,\"b\":0})\n",
    "\n",
    "fig.write_image(directory+\"/ita_places.png\")\n",
    "IFrame(directory+\"/ita_places.png\", width=750, height=600)"
   ]
  },
  {
   "cell_type": "markdown",
   "id": "c72fc27f",
   "metadata": {},
   "source": [
    "<br>"
   ]
  },
  {
   "cell_type": "markdown",
   "id": "3e442a41",
   "metadata": {},
   "source": [
    "-----------------------------------------------------------------"
   ]
  },
  {
   "cell_type": "code",
   "execution_count": null,
   "id": "dcf84bbe",
   "metadata": {},
   "outputs": [],
   "source": []
  }
 ],
 "metadata": {
  "kernelspec": {
   "display_name": "Python 3 (ipykernel)",
   "language": "python",
   "name": "python3"
  },
  "language_info": {
   "codemirror_mode": {
    "name": "ipython",
    "version": 3
   },
   "file_extension": ".py",
   "mimetype": "text/x-python",
   "name": "python",
   "nbconvert_exporter": "python",
   "pygments_lexer": "ipython3",
   "version": "3.9.7"
  },
  "widgets": {
   "application/vnd.jupyter.widget-state+json": {
    "state": {},
    "version_major": 2,
    "version_minor": 0
   }
  }
 },
 "nbformat": 4,
 "nbformat_minor": 5
}
